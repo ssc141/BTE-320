{
  "nbformat": 4,
  "nbformat_minor": 0,
  "metadata": {
    "colab": {
      "provenance": [],
      "authorship_tag": "ABX9TyPRvmj2X4Aj3QE4XRKfk1G5",
      "include_colab_link": true
    },
    "kernelspec": {
      "name": "python3",
      "display_name": "Python 3"
    },
    "language_info": {
      "name": "python"
    }
  },
  "cells": [
    {
      "cell_type": "markdown",
      "metadata": {
        "id": "view-in-github",
        "colab_type": "text"
      },
      "source": [
        "<a href=\"https://colab.research.google.com/github/ssc141/BTE-320/blob/main/Calculator.ipynb\" target=\"_parent\"><img src=\"https://colab.research.google.com/assets/colab-badge.svg\" alt=\"Open In Colab\"/></a>"
      ]
    },
    {
      "cell_type": "code",
      "source": [
        "while True:\n",
        "  print(\"Select operation.\")\n",
        "  print(\"1.Add\")\n",
        "  print(\"2.Subtract\")\n",
        "  print(\"3.Multiply\")\n",
        "  print(\"4.Divide\")\n",
        "  print(\"5.Square_Root\")\n",
        "  print(\"6.Exponent\")\n",
        "  print(\"7.Reminder\")\n",
        "\n",
        "  input(\"Enter choice(1/2/3/4/5/6/7) \")\n",
        "  if choice in ('1','2','3','4','5','6','7'):\n",
        "    try:\n",
        "      num1 = float(input(\"Enter first number:\"))\n",
        "      num2 = float(input(\"Enter Second number:\"))\n",
        "    except ValueError:\n",
        "      print(\"invalid input. Please enter a number\")\n",
        "      continue\n",
        "\n",
        "    if choice == '1':\n",
        "      print(num1, '+', num2, '=', Add(num1, num2))\n",
        "\n",
        "    elif choice == '2':\n",
        "      print(num1, '-', num2, '=', Subtract(num1, num2))\n",
        "\n",
        "    elif choice == '3':\n",
        "      print(num1, '*', num2, '=', Multiply(num1, num2))\n",
        "\n",
        "    elif choice == '4':\n",
        "      print(num1, '/', num2, '=', Divide(num1, num2))\n",
        "\n",
        "    elif choice == '5':\n",
        "      print(num1, '//', num2, '=', Square_Root(num1, num2))\n",
        "\n",
        "    elif choice == '6':\n",
        "      print(num1, '**', num2, '=', Exponent(num1, num2))\n",
        "\n",
        "    elif choice == '7':\n",
        "      print(num1, '%', num2, '=', Reminder(num1, num2))\n",
        "\n"
      ],
      "metadata": {
        "colab": {
          "base_uri": "https://localhost:8080/",
          "height": 411
        },
        "id": "ziJ8ATCR44nX",
        "outputId": "a1819eda-6d39-4497-a157-292e2d24694a"
      },
      "execution_count": 12,
      "outputs": [
        {
          "name": "stdout",
          "output_type": "stream",
          "text": [
            "Select operation.\n",
            "1.Add\n",
            "2.Subtract\n",
            "3.Multiply\n",
            "4.Divide\n",
            "5.Square_Root\n",
            "6.Exponent\n",
            "7.Reminder\n",
            "Enter choice(1/2/3/4/5/6/7) 1\n"
          ]
        },
        {
          "output_type": "error",
          "ename": "NameError",
          "evalue": "name 'choice' is not defined",
          "traceback": [
            "\u001b[0;31m---------------------------------------------------------------------------\u001b[0m",
            "\u001b[0;31mNameError\u001b[0m                                 Traceback (most recent call last)",
            "\u001b[0;32m<ipython-input-12-9664aa49b4a1>\u001b[0m in \u001b[0;36m<cell line: 1>\u001b[0;34m()\u001b[0m\n\u001b[1;32m     10\u001b[0m \u001b[0;34m\u001b[0m\u001b[0m\n\u001b[1;32m     11\u001b[0m   \u001b[0minput\u001b[0m\u001b[0;34m(\u001b[0m\u001b[0;34m\"Enter choice(1/2/3/4/5/6/7) \"\u001b[0m\u001b[0;34m)\u001b[0m\u001b[0;34m\u001b[0m\u001b[0;34m\u001b[0m\u001b[0m\n\u001b[0;32m---> 12\u001b[0;31m   \u001b[0;32mif\u001b[0m \u001b[0mchoice\u001b[0m \u001b[0;32min\u001b[0m \u001b[0;34m(\u001b[0m\u001b[0;34m'1'\u001b[0m\u001b[0;34m,\u001b[0m\u001b[0;34m'2'\u001b[0m\u001b[0;34m,\u001b[0m\u001b[0;34m'3'\u001b[0m\u001b[0;34m,\u001b[0m\u001b[0;34m'4'\u001b[0m\u001b[0;34m,\u001b[0m\u001b[0;34m'5'\u001b[0m\u001b[0;34m,\u001b[0m\u001b[0;34m'6'\u001b[0m\u001b[0;34m,\u001b[0m\u001b[0;34m'7'\u001b[0m\u001b[0;34m)\u001b[0m\u001b[0;34m:\u001b[0m\u001b[0;34m\u001b[0m\u001b[0;34m\u001b[0m\u001b[0m\n\u001b[0m\u001b[1;32m     13\u001b[0m     \u001b[0;32mtry\u001b[0m\u001b[0;34m:\u001b[0m\u001b[0;34m\u001b[0m\u001b[0;34m\u001b[0m\u001b[0m\n\u001b[1;32m     14\u001b[0m       \u001b[0mnum1\u001b[0m \u001b[0;34m=\u001b[0m \u001b[0mfloat\u001b[0m\u001b[0;34m(\u001b[0m\u001b[0minput\u001b[0m\u001b[0;34m(\u001b[0m\u001b[0;34m\"Enter first number:\"\u001b[0m\u001b[0;34m)\u001b[0m\u001b[0;34m)\u001b[0m\u001b[0;34m\u001b[0m\u001b[0;34m\u001b[0m\u001b[0m\n",
            "\u001b[0;31mNameError\u001b[0m: name 'choice' is not defined"
          ]
        }
      ]
    },
    {
      "cell_type": "code",
      "source": [
        "while True:\n",
        "  operator = input('Enter an operator: ')\n",
        "\n",
        "  if operator == 'break':\n",
        "    break\n",
        "\n",
        "  num1 = float(input('Enter first number: '))\n",
        "  num2 = float(input('Enter second number: '))\n",
        "\n",
        "  if operator == \"+\":\n",
        "    print(f'(num1) + (num2) = {num1 + num2}')\n",
        "  elif operator == \"-\":\n",
        "    print(f'(num1) - (num2) = {num1 - num2}')\n",
        "  elif operator == \"*\":\n",
        "    print(f'(num1) * (num2) = {num1 * num2}')\n",
        "  elif operator == \"/\":\n",
        "    print(f'(num1) / (num2) = {num1 / num2}')\n",
        "  elif operator == \"//\":\n",
        "    print(f'(num1) // (num2) = {num1 // num2}')\n",
        "  elif operator == \"**\":\n",
        "    print(f'(num1) ** (num2) = {num1 ** num2}')\n",
        "  elif operator == \"%\":\n",
        "    print(f'(num1) modulo (num2) = {num1 % num2}')\n",
        "  else:\n",
        "    print(f'Invalid operator: \\'(operator)\\'')\n",
        ""
      ],
      "metadata": {
        "colab": {
          "base_uri": "https://localhost:8080/"
        },
        "id": "sHXo6NbcCt2J",
        "outputId": "74d07214-31d2-4a41-e7c7-495c5c6c7add"
      },
      "execution_count": null,
      "outputs": [
        {
          "output_type": "stream",
          "name": "stdout",
          "text": [
            "Enter an operator: +\n",
            "Enter first number: 5\n",
            "Enter second number: 8\n",
            "(num1) + (num2) = 13.0\n",
            "Enter an operator: %\n",
            "Enter first number: 4\n",
            "Enter second number: 3\n",
            "(num1) modulo (num2) = 1.0\n"
          ]
        }
      ]
    }
  ]
}
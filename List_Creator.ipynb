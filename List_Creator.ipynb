{
  "nbformat": 4,
  "nbformat_minor": 0,
  "metadata": {
    "colab": {
      "provenance": [],
      "authorship_tag": "ABX9TyOaqHazGzUPR3KR9VRbmGb/",
      "include_colab_link": true
    },
    "kernelspec": {
      "name": "python3",
      "display_name": "Python 3"
    },
    "language_info": {
      "name": "python"
    }
  },
  "cells": [
    {
      "cell_type": "markdown",
      "metadata": {
        "id": "view-in-github",
        "colab_type": "text"
      },
      "source": [
        "<a href=\"https://colab.research.google.com/github/ssc141/BTE-320/blob/main/List_Creator.ipynb\" target=\"_parent\"><img src=\"https://colab.research.google.com/assets/colab-badge.svg\" alt=\"Open In Colab\"/></a>"
      ]
    },
    {
      "cell_type": "code",
      "execution_count": 9,
      "metadata": {
        "colab": {
          "base_uri": "https://localhost:8080/"
        },
        "id": "hnP41eHpl2nE",
        "outputId": "5f78868c-7f99-4980-b1df-a2bfdfe4a447"
      },
      "outputs": [
        {
          "output_type": "stream",
          "name": "stdout",
          "text": [
            "Enter an integer to append to the list: 4\n",
            "Here is your current list: (List)\n",
            "Enter an integer to append to the list: 3\n",
            "Here is your current list: (List)\n",
            "Enter an integer to append to the list: 6\n",
            "Here is your current list: (List)\n",
            "Enter an integer to append to the list: 5\n",
            "Here is your current list: (List)\n",
            "Enter an integer to append to the list: 645\n",
            "Here is your current list: (List)\n",
            "Enter an integer to append to the list: 0\n",
            "Here is your list: (List)\n"
          ]
        }
      ],
      "source": [
        "List = []\n",
        "while True:\n",
        "  userinput = int(input('Enter an integer to append to the list: '))\n",
        "  if userinput == 0:\n",
        "    break\n",
        "  List.append(userinput)\n",
        "  print(f'Here is your current list: (List)')\n",
        "print(f'Here is your list: (List)')"
      ]
    }
  ]
}
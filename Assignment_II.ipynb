{
  "nbformat": 4,
  "nbformat_minor": 0,
  "metadata": {
    "colab": {
      "provenance": [],
      "include_colab_link": true
    },
    "kernelspec": {
      "name": "python3",
      "display_name": "Python 3"
    },
    "language_info": {
      "name": "python"
    }
  },
  "cells": [
    {
      "cell_type": "markdown",
      "metadata": {
        "id": "view-in-github",
        "colab_type": "text"
      },
      "source": [
        "<a href=\"https://colab.research.google.com/github/ssc141/BTE-320/blob/main/Assignment_II.ipynb\" target=\"_parent\"><img src=\"https://colab.research.google.com/assets/colab-badge.svg\" alt=\"Open In Colab\"/></a>"
      ]
    },
    {
      "cell_type": "markdown",
      "source": [
        "# Problem Set 2"
      ],
      "metadata": {
        "id": "mqKVIuY-mxNU"
      }
    },
    {
      "cell_type": "markdown",
      "source": [
        "## Assignment 1: Quality Control (7 points)\n",
        "\n",
        "A quality control manager would like to find the average weight of a list of weights. Prior experience indicates that the first two measures are atypical, and the practice is to exclude these from the average calculation.\n",
        "\n",
        "Write a program that calculates the average of a list of numbers that given as inputs from the user, excluding the first three values.\n",
        "\n",
        "For your program, you must define and use the following functions:\n",
        "- `getValues(n)`: Prompt the user for `n` values, returns the list\n",
        "- `calcAverage(alist)`: Calculates the average from the list"
      ],
      "metadata": {
        "id": "-RSYW1jVm08n"
      }
    },
    {
      "cell_type": "code",
      "execution_count": 17,
      "metadata": {
        "id": "AqbgJkgNmvQw",
        "colab": {
          "base_uri": "https://localhost:8080/"
        },
        "outputId": "f5ed4767-2c3a-4823-8394-f727d0bad3a8"
      },
      "outputs": [
        {
          "output_type": "stream",
          "name": "stdout",
          "text": [
            "How many values would you like to enter? 7\n",
            "Enter value 1: 4\n",
            "Enter value 2: 6\n",
            "Enter value 3: 3\n",
            "Enter value 4: 8\n",
            "Enter value 5: 90\n",
            "Enter value 6: 0\n",
            "Enter value 7: 9\n",
            "The average of the values, excluding the first three, is: 26.75\n"
          ]
        }
      ],
      "source": [
        "def getValues(n):\n",
        "    values = []\n",
        "    for i in range(n):\n",
        "        value = float(input(f\"Enter value {i+1}: \"))\n",
        "        values.append(value)\n",
        "    return values\n",
        "def calcAverage(alist):\n",
        "    if len(alist) > 3:\n",
        "        relevant_values = alist[3:]\n",
        "        return sum(relevant_values) / len(relevant_values)\n",
        "    else:\n",
        "        return 0\n",
        "\n",
        "n = int(input(\"How many values would you like to enter? \"))\n",
        "values = getValues(n)\n",
        "if n > 3:\n",
        "    average = calcAverage(values)\n",
        "    print(f\"The average of the values, excluding the first three, is: {average}\")\n",
        "else:\n",
        "    print(\"Not enough values to exclude the first three and compute an average.\")"
      ]
    },
    {
      "cell_type": "markdown",
      "source": [
        "## Assignment 2: Country Statistics Lookup-Multiple Measures (6 points)\n",
        "\n",
        "Assume a program begins with the statement:\n",
        "\n",
        "```python\n",
        "allData = { # dictionary of values for countries\n",
        "    'US': {'pop':325.7, 'gdp': 19.39, 'ccy': 'USD', 'fx':  1.0},\n",
        "    'CA': {'pop': 36.5, 'gdp':  1.65, 'ccy': 'CAD', 'fx':  1.35},\n",
        "    'MX': {'pop':129.2, 'gdp':  1.15, 'ccy': 'MXN', 'fx': 19.68}\n",
        "    }\n",
        "```\n",
        "\n",
        "Write subsequent statements that (in a loop) prompt the user for a country code (`US`, `CA`, or `MX`), then prompt for a measure name (`pop`, `gdp`, `ccy`, or `fx`), then look up in the above dictionary for the corresponding value, and display it.\n",
        "\n",
        "Example run:\n",
        "```\n",
        "Please enter a country code: CA\n",
        "Please enter a statistic: pop\n",
        "CA pop = 36.5\n",
        "```\n",
        "\n",
        "Your program should handle the cases where a user-entered country code or measure name is not found."
      ],
      "metadata": {
        "id": "QFO0Kzx8ncnv"
      }
    },
    {
      "cell_type": "code",
      "source": [
        "allData = { # dictionary of values for countries\n",
        "    'US':{'pop': 325.7, 'gdp': 19.39, 'ccy': 'USD', 'fx': 1.0},\n",
        "    'CA':{'pop': 36.5, 'gdp': 1.65, 'ccy': 'CAD', 'fx': 1.35},\n",
        "    'MX':{'pop': 129.2, 'gdp': 1.15, 'ccy': 'MXN', 'fx': 19.68}\n",
        "    }\n",
        "\n",
        "while True:\n",
        "  country_code = input('Please enter a country code (US, CA, MX):')\n",
        "  if country_code not in allData:\n",
        "    print('Invalid Country Code. Please try again.')\n",
        "    continue\n",
        "\n",
        "  measure_name = input('Please enter a statistic (pop, gdp, ccy, fx):')\n",
        "  if measure_name not in allData[country_code]:\n",
        "    print('Invalid statistic. Please try again.')\n",
        "    continue\n",
        "\n",
        "  value = allData[country_code][measure_name]\n",
        "  print(f\"{country_code} {measure_name} = {value}\")\n",
        "  break"
      ],
      "metadata": {
        "id": "NZFjRINKowEW",
        "colab": {
          "base_uri": "https://localhost:8080/"
        },
        "outputId": "46456b93-ddd1-4bfa-f334-0cac93e1d75d"
      },
      "execution_count": 4,
      "outputs": [
        {
          "output_type": "stream",
          "name": "stdout",
          "text": [
            "Please enter a country code (US, CA, MX):CA\n",
            "Please enter a statistic (pop, gdp, ccy, fx):Ca\n",
            "Invalid statistic. Please try again.\n",
            "Please enter a country code (US, CA, MX):cs\n",
            "Invalid Country Code. Please try again.\n",
            "Please enter a country code (US, CA, MX):fx\n",
            "Invalid Country Code. Please try again.\n",
            "Please enter a country code (US, CA, MX):Ca\n",
            "Invalid Country Code. Please try again.\n",
            "Please enter a country code (US, CA, MX):CA\n",
            "Please enter a statistic (pop, gdp, ccy, fx):pop\n",
            "CA pop = 36.5\n"
          ]
        }
      ]
    },
    {
      "cell_type": "code",
      "source": [
        "allData = { # dictionary of values for countries\n",
        "    'US':{'pop': 325.7, 'gdp': 19.39, 'ccy': 'USD', 'fx': 1.0},\n",
        "    'CA':{'pop': 36.5, 'gdp': 1.65, 'ccy': 'CAD', 'fx': 1.35},\n",
        "    'MX':{'pop': 129.2, 'gdp': 1.15, 'ccy': 'MXN', 'fx': 19.68}\n",
        "    }\n",
        "\n",
        "while True:\n",
        "  country_code = input('Enter country code (or type exit if you want to stop): ')\n",
        "  if country_code == 'exit':\n",
        "    break\n",
        "  if country_code not in allData.keys():\n",
        "    print('This country code does not exist.')\n",
        "    continue\n",
        "  statistic = input('Enter a statistic: ')\n",
        "  if statistic not in allData[country_code].keys():\n",
        "    print('Invalid statistic.')\n",
        "    continue\n",
        "\n",
        "  if statistic == 'pop':\n",
        "    print(f'Population = {allData[country_code][statistic]} trillion $')\n",
        "  elif statistic == 'gdp':\n",
        "    print(f'GDP = {allData[country_code][statistic]} million people ')\n",
        "  elif statistic == 'ccy':\n",
        "    print(f'Currency = {allData[country_code][statistic]}')\n",
        "  else:\n",
        "    print(f'FX: {allData[country_code][statistic]}')"
      ],
      "metadata": {
        "colab": {
          "base_uri": "https://localhost:8080/"
        },
        "id": "qVhgaumWUCWy",
        "outputId": "affd7f58-ea84-4850-827d-9d75ab146626"
      },
      "execution_count": null,
      "outputs": [
        {
          "name": "stdout",
          "output_type": "stream",
          "text": [
            "Enter country code (or type exit if you want to stop): US\n",
            "Enter a statistic: pop\n",
            "Population = 325.7 trillion $\n",
            "Enter country code (or type exit if you want to stop): CA\n",
            "Enter a statistic: FX\n",
            "Invalid statistic.\n",
            "Enter country code (or type exit if you want to stop): CA\n",
            "Enter a statistic: fx\n",
            "FX: 1.35\n",
            "Enter country code (or type exit if you want to stop): exit\n"
          ]
        }
      ]
    },
    {
      "cell_type": "markdown",
      "source": [
        "## Assignment 3: Parking Garage (6 points)\n",
        "\n",
        "Write a program to compute the fee for parking in a garage for a number of hours.\n",
        "\n",
        "The program should:\n",
        "- Prompt the user for how many hours parked\n",
        "- Calculate the fee based on the following rules:\n",
        "  - $2.50/hour\n",
        "\n",
        "  - minimum fee is $6.00\n",
        "\n",
        "  - maximum fee is $20.00\n",
        "- Print the result\n",
        "\n",
        "For your program, define and use the following two functions:\n",
        "```python\n",
        "# use input() to prompt for the # of hours parked, return this value\n",
        "def getParkingHours()\n",
        "\n",
        "# takes as input hours (a number), returns the parking fee\n",
        "def calcParkingFee()\n",
        "```"
      ],
      "metadata": {
        "id": "GjaUFrnfpKFf"
      }
    },
    {
      "cell_type": "code",
      "source": [
        "def getParkingHours():\n",
        "    hours = float(input(\"Please enter the number of hours parked: \"))\n",
        "    return hours\n",
        "\n",
        "def calcParkingFee(hours):\n",
        "    fee_per_hour = 2.50\n",
        "    min_fee = 6.00\n",
        "    max_fee = 20.00\n",
        "\n",
        "    fee = min(max(fee_per_hour * hours, min_fee), max_fee)\n",
        "    return fee\n",
        "\n",
        "def main():\n",
        "    hours = getParkingHours()\n",
        "    fee = calcParkingFee(hours)\n",
        "    print(f\"The parking fee for {hours} hours is ${fee:.2f}.\")\n",
        "main()"
      ],
      "metadata": {
        "id": "5ha4O3V5pwNN",
        "colab": {
          "base_uri": "https://localhost:8080/"
        },
        "outputId": "fd5c0bdd-a4d0-49bd-d756-11e6d6e9a060"
      },
      "execution_count": 10,
      "outputs": [
        {
          "output_type": "stream",
          "name": "stdout",
          "text": [
            "Please enter the number of hours parked: 1\n",
            "The parking fee for 1.0 hours is $6.00.\n"
          ]
        }
      ]
    },
    {
      "cell_type": "markdown",
      "source": [
        "## Assignment 4: Tuition (6 points)\n",
        "\n",
        "A college charges tuition according to the following:\n",
        "- 12 or more credits: $20,000/semester\n",
        "\n",
        "- 1-11 credits: $1,200 + $1,700 per credit\n",
        "\n",
        "Write a program that prompts the user for a number of credits and determines and displays the tuition for the semester. As part of your program, define and use the following function:\n",
        "```python\n",
        "def calcTuition(credits)\n",
        "```\n",
        "The function returns the tuition for a given number of credits"
      ],
      "metadata": {
        "id": "gipBObe5qm-2"
      }
    },
    {
      "cell_type": "code",
      "source": [
        "def calculate_tuition(credits):\n",
        "    if credits >= 12:\n",
        "        tuition = 20000\n",
        "    else:\n",
        "        tuition = 1200 + 1700 * credits\n",
        "    return tuition\n",
        "\n",
        "def main():\n",
        "    try:\n",
        "        num_credits = int(input(\"Enter the number of credits: \"))\n",
        "        if num_credits < 0:\n",
        "            print(\"Number of credits cannot be negative.\")\n",
        "        else:\n",
        "            tuition = calculate_tuition(num_credits)\n",
        "            print(f\"Tuition for {num_credits} credits: ${tuition}\")\n",
        "    except ValueError:\n",
        "        print(\"Invalid input. Please enter a valid number of credits.\")\n",
        "\n",
        "if __name__ == \"__main__\":\n",
        "    main()\n"
      ],
      "metadata": {
        "id": "BPcn9ywzrL8y",
        "colab": {
          "base_uri": "https://localhost:8080/"
        },
        "outputId": "7db20106-99be-4f3b-eb5e-f36c197839fd"
      },
      "execution_count": 7,
      "outputs": [
        {
          "output_type": "stream",
          "name": "stdout",
          "text": [
            "Enter the number of credits: 5\n",
            "Tuition for 5 credits: $9700\n"
          ]
        }
      ]
    }
  ]
}
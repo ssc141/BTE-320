{
  "nbformat": 4,
  "nbformat_minor": 0,
  "metadata": {
    "colab": {
      "provenance": [],
      "authorship_tag": "ABX9TyMgAa/llygq7TsYH9Ts4kJL",
      "include_colab_link": true
    },
    "kernelspec": {
      "name": "python3",
      "display_name": "Python 3"
    },
    "language_info": {
      "name": "python"
    }
  },
  "cells": [
    {
      "cell_type": "markdown",
      "metadata": {
        "id": "view-in-github",
        "colab_type": "text"
      },
      "source": [
        "<a href=\"https://colab.research.google.com/github/ssc141/BTE-320/blob/main/Date_Assignment.ipynb\" target=\"_parent\"><img src=\"https://colab.research.google.com/assets/colab-badge.svg\" alt=\"Open In Colab\"/></a>"
      ]
    },
    {
      "cell_type": "code",
      "execution_count": 7,
      "metadata": {
        "colab": {
          "base_uri": "https://localhost:8080/"
        },
        "id": "XwyVr7lIECiJ",
        "outputId": "74893535-50f7-44a3-fa8b-db93e2a0f499"
      },
      "outputs": [
        {
          "output_type": "stream",
          "name": "stdout",
          "text": [
            "Enter a date:02/20/2024\n",
            "02/20/2024\n",
            "The month is 02\n",
            "The day is 20\n",
            "The year is 20\n"
          ]
        }
      ],
      "source": [
        "date = input('Enter a date:')\n",
        "print(date)\n",
        "\n",
        "month = date[0:2]\n",
        "print(f'The month is {month}')\n",
        "\n",
        "day = date[3:5]\n",
        "print(f'The day is {day}')\n",
        "\n",
        "year = date[6:8]\n",
        "print(f'The year is {year}')"
      ]
    }
  ]
}
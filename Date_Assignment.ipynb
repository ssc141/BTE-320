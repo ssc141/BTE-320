{
  "nbformat": 4,
  "nbformat_minor": 0,
  "metadata": {
    "colab": {
      "provenance": [],
      "authorship_tag": "ABX9TyNSquCKGBeFUKdpJXHZLUiJ",
      "include_colab_link": true
    },
    "kernelspec": {
      "name": "python3",
      "display_name": "Python 3"
    },
    "language_info": {
      "name": "python"
    }
  },
  "cells": [
    {
      "cell_type": "markdown",
      "metadata": {
        "id": "view-in-github",
        "colab_type": "text"
      },
      "source": [
        "<a href=\"https://colab.research.google.com/github/ssc141/BTE-320/blob/main/Date_Assignment.ipynb\" target=\"_parent\"><img src=\"https://colab.research.google.com/assets/colab-badge.svg\" alt=\"Open In Colab\"/></a>"
      ]
    },
    {
      "cell_type": "code",
      "execution_count": 5,
      "metadata": {
        "colab": {
          "base_uri": "https://localhost:8080/"
        },
        "id": "XwyVr7lIECiJ",
        "outputId": "56ba12d4-118a-4b6c-f17c-2465f5726b3c"
      },
      "outputs": [
        {
          "output_type": "stream",
          "name": "stdout",
          "text": [
            "Enter a date: MM/DD/YYYY02202024\n",
            "Month is 02\n",
            "Day is 02\n",
            "Year is 24\n"
          ]
        }
      ],
      "source": [
        "date = input('Enter a date: MM/DD/YYYY')\n",
        "\n",
        "month = date[0:2]\n",
        "print(f'Month is {month}')\n",
        "\n",
        "day = date[3:5]\n",
        "print(f'Day is {day}')\n",
        "\n",
        "year = date[6:8]\n",
        "print(f'Year is {year}')"
      ]
    }
  ]
}
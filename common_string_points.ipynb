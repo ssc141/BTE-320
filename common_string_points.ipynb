{
  "nbformat": 4,
  "nbformat_minor": 0,
  "metadata": {
    "colab": {
      "provenance": [],
      "authorship_tag": "ABX9TyNnLd1Kle4Wd45yfEl/9MAC",
      "include_colab_link": true
    },
    "kernelspec": {
      "name": "python3",
      "display_name": "Python 3"
    },
    "language_info": {
      "name": "python"
    }
  },
  "cells": [
    {
      "cell_type": "markdown",
      "metadata": {
        "id": "view-in-github",
        "colab_type": "text"
      },
      "source": [
        "<a href=\"https://colab.research.google.com/github/ssc141/BTE-320/blob/main/common_string_points.ipynb\" target=\"_parent\"><img src=\"https://colab.research.google.com/assets/colab-badge.svg\" alt=\"Open In Colab\"/></a>"
      ]
    },
    {
      "cell_type": "code",
      "execution_count": 10,
      "metadata": {
        "colab": {
          "base_uri": "https://localhost:8080/"
        },
        "id": "QLs0xpJ1RukO",
        "outputId": "2f3008b1-bdf9-4f0a-db07-7741e42f68f9"
      },
      "outputs": [
        {
          "output_type": "stream",
          "name": "stdout",
          "text": [
            "a\n",
            "b\n",
            "c\n",
            "d\n"
          ]
        }
      ],
      "source": [
        "s1 = 'abcdefg'\n",
        "s2 = 'abcdwqui'\n",
        "\n",
        "for index in range(len(s1)):\n",
        "  if s1[index]in s2:\n",
        "    print(s1[index])"
      ]
    },
    {
      "cell_type": "code",
      "source": [
        "s1 = 'abcdefg'\n",
        "s2 = 'abcdwqui'\n",
        "\n",
        "for char in s1:\n",
        "  if char in s2:\n",
        "    print(char)"
      ],
      "metadata": {
        "colab": {
          "base_uri": "https://localhost:8080/"
        },
        "id": "eVfy-O1bXK4i",
        "outputId": "b510b1ec-d544-4cd5-fbc7-90c0ad2a27d3"
      },
      "execution_count": 11,
      "outputs": [
        {
          "output_type": "stream",
          "name": "stdout",
          "text": [
            "a\n",
            "b\n",
            "c\n",
            "d\n"
          ]
        }
      ]
    }
  ]
}
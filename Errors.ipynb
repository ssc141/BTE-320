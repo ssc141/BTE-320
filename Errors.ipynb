{
  "nbformat": 4,
  "nbformat_minor": 0,
  "metadata": {
    "colab": {
      "provenance": [],
      "authorship_tag": "ABX9TyNCthy5Wc7YTzedX9v2/3MT",
      "include_colab_link": true
    },
    "kernelspec": {
      "name": "python3",
      "display_name": "Python 3"
    },
    "language_info": {
      "name": "python"
    }
  },
  "cells": [
    {
      "cell_type": "markdown",
      "metadata": {
        "id": "view-in-github",
        "colab_type": "text"
      },
      "source": [
        "<a href=\"https://colab.research.google.com/github/ssc141/BTE-320/blob/main/Errors.ipynb\" target=\"_parent\"><img src=\"https://colab.research.google.com/assets/colab-badge.svg\" alt=\"Open In Colab\"/></a>"
      ]
    },
    {
      "cell_type": "code",
      "execution_count": 1,
      "metadata": {
        "colab": {
          "base_uri": "https://localhost:8080/"
        },
        "id": "pHMM-IDFBNPv",
        "outputId": "3792ad76-6b01-44df-ae1b-207a7ab9da42"
      },
      "outputs": [
        {
          "output_type": "stream",
          "name": "stdout",
          "text": [
            "0.6666666666666666\n"
          ]
        }
      ],
      "source": [
        "a = 2\n",
        "b = 3\n",
        "\n",
        "print(a/b)"
      ]
    },
    {
      "cell_type": "code",
      "source": [
        "try:\n",
        "  a = float(input('Enter the numerator: '))\n",
        "  b = float(input('Enter the denominator: '))\n",
        "  print(a/b)\n",
        "  print('Division Complete')\n",
        "except ZeroDivisionError:\n",
        "  print('Division with a Zero not allowed!')\n",
        "except ValueError:\n",
        "  print('Invalid input!')\n",
        "except:\n",
        "  print('Unknown error...')\n",
        "\n",
        "print('Program ends')"
      ],
      "metadata": {
        "colab": {
          "base_uri": "https://localhost:8080/"
        },
        "id": "CppzX5-gDruK",
        "outputId": "70d27ab3-6b42-4831-86c3-6bf97d1086e4"
      },
      "execution_count": 12,
      "outputs": [
        {
          "output_type": "stream",
          "name": "stdout",
          "text": [
            "Enter the numerator: abs\n",
            "Invalid input!\n",
            "Program ends\n"
          ]
        }
      ]
    },
    {
      "cell_type": "code",
      "source": [
        "I = [1,3,5,7,9]\n",
        "\n",
        "try:\n",
        "  idx = int(input('Enter index: '))\n",
        "  print(I[idx])\n",
        "except IndexError:\n",
        "  print('Index value out of bounds!')\n",
        "except TypeError:\n",
        "  print('Indexes must be int')\n"
      ],
      "metadata": {
        "colab": {
          "base_uri": "https://localhost:8080/"
        },
        "id": "WyB_Ev5jHlvz",
        "outputId": "c738a8c6-b3a4-4d69-8c14-275196f0d4a2"
      },
      "execution_count": 24,
      "outputs": [
        {
          "output_type": "stream",
          "name": "stdout",
          "text": [
            "Enter index: 5\n",
            "Index value out of bounds!\n"
          ]
        }
      ]
    },
    {
      "cell_type": "code",
      "source": [
        "def avg(alist):\n",
        "  try:\n",
        "    return sum(alist) / len(alist)\n",
        "\n",
        "  except ZeroDivisionError:\n",
        "    print('The list is empty!')\n",
        "    return\n",
        "  except TypeError:\n",
        "    print('The list is not purely numerical!')\n",
        "    return float('nan')\n",
        "\n",
        "\n",
        "I = [1,2,3]\n",
        "avg(I)\n"
      ],
      "metadata": {
        "colab": {
          "base_uri": "https://localhost:8080/"
        },
        "id": "FKuR_71iKYSm",
        "outputId": "9552452d-03aa-43fa-ad95-620e9af3ca5a"
      },
      "execution_count": 35,
      "outputs": [
        {
          "output_type": "execute_result",
          "data": {
            "text/plain": [
              "2.0"
            ]
          },
          "metadata": {},
          "execution_count": 35
        }
      ]
    }
  ]
}
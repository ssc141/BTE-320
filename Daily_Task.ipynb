{
  "nbformat": 4,
  "nbformat_minor": 0,
  "metadata": {
    "colab": {
      "provenance": [],
      "authorship_tag": "ABX9TyMeMp7Z/3BXebsSWS8s18R+",
      "include_colab_link": true
    },
    "kernelspec": {
      "name": "python3",
      "display_name": "Python 3"
    },
    "language_info": {
      "name": "python"
    }
  },
  "cells": [
    {
      "cell_type": "markdown",
      "metadata": {
        "id": "view-in-github",
        "colab_type": "text"
      },
      "source": [
        "<a href=\"https://colab.research.google.com/github/ssc141/BTE-320/blob/main/Daily_Task.ipynb\" target=\"_parent\"><img src=\"https://colab.research.google.com/assets/colab-badge.svg\" alt=\"Open In Colab\"/></a>"
      ]
    },
    {
      "cell_type": "code",
      "execution_count": null,
      "metadata": {
        "colab": {
          "base_uri": "https://localhost:8080/",
          "height": 35
        },
        "id": "2v43uoLqXpoQ",
        "outputId": "e1379ef4-0ee6-4687-851e-812f37afe0d3"
      },
      "outputs": [
        {
          "output_type": "execute_result",
          "data": {
            "text/plain": [
              "'ab'"
            ],
            "application/vnd.google.colaboratory.intrinsic+json": {
              "type": "string"
            }
          },
          "metadata": {},
          "execution_count": 4
        }
      ],
      "source": [
        "'a' + 'b'"
      ]
    },
    {
      "cell_type": "code",
      "source": [
        "s = input('>')\n",
        "print(s.strip())"
      ],
      "metadata": {
        "colab": {
          "base_uri": "https://localhost:8080/"
        },
        "id": "iDRa7yiMbHP4",
        "outputId": "7dcf27fd-9490-4534-d570-e31b449a7593"
      },
      "execution_count": null,
      "outputs": [
        {
          "output_type": "stream",
          "name": "stdout",
          "text": [
            ">     sahil\n",
            "sahil\n"
          ]
        }
      ]
    },
    {
      "cell_type": "code",
      "source": [
        "s = input('>')\n",
        "print(s)"
      ],
      "metadata": {
        "colab": {
          "base_uri": "https://localhost:8080/"
        },
        "id": "lJyreaQ1bShq",
        "outputId": "b985c324-e774-4b10-e4df-2e6c8b47f7ae"
      },
      "execution_count": null,
      "outputs": [
        {
          "output_type": "stream",
          "name": "stdout",
          "text": [
            ">        sahil\n",
            "        sahil\n"
          ]
        }
      ]
    },
    {
      "cell_type": "code",
      "source": [
        "s = input('>')\n",
        "print(s.strip().capitalize())"
      ],
      "metadata": {
        "colab": {
          "base_uri": "https://localhost:8080/"
        },
        "id": "sbHiEGDnbYA3",
        "outputId": "a43d6dcf-8f1e-4379-8199-d7a97ef24549"
      },
      "execution_count": null,
      "outputs": [
        {
          "output_type": "stream",
          "name": "stdout",
          "text": [
            ">      sahil\n",
            "Sahil\n"
          ]
        }
      ]
    },
    {
      "cell_type": "code",
      "source": [
        "s = input('>')\n",
        "while s != 'n':\n",
        "       s = input('>')"
      ],
      "metadata": {
        "colab": {
          "base_uri": "https://localhost:8080/"
        },
        "id": "EnDEZiDMb7eP",
        "outputId": "bab04a6a-8d79-4369-e482-8372d4219a9a"
      },
      "execution_count": null,
      "outputs": [
        {
          "name": "stdout",
          "output_type": "stream",
          "text": [
            ">N\n",
            ">n\n"
          ]
        }
      ]
    }
  ]
}
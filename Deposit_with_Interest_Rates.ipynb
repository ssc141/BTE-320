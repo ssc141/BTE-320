{
  "nbformat": 4,
  "nbformat_minor": 0,
  "metadata": {
    "colab": {
      "provenance": [],
      "authorship_tag": "ABX9TyNY4s1eFbVOSwDXeljBkr52",
      "include_colab_link": true
    },
    "kernelspec": {
      "name": "python3",
      "display_name": "Python 3"
    },
    "language_info": {
      "name": "python"
    }
  },
  "cells": [
    {
      "cell_type": "markdown",
      "metadata": {
        "id": "view-in-github",
        "colab_type": "text"
      },
      "source": [
        "<a href=\"https://colab.research.google.com/github/ssc141/BTE-320/blob/main/Deposit_with_Interest_Rates.ipynb\" target=\"_parent\"><img src=\"https://colab.research.google.com/assets/colab-badge.svg\" alt=\"Open In Colab\"/></a>"
      ]
    },
    {
      "cell_type": "code",
      "execution_count": null,
      "metadata": {
        "colab": {
          "base_uri": "https://localhost:8080/"
        },
        "id": "kUZDMyr1v9ef",
        "outputId": "062850a7-c659-429f-8d43-14d2f52398e3"
      },
      "outputs": [
        {
          "output_type": "stream",
          "name": "stdout",
          "text": [
            "Enter the deposit amount ($):1000\n",
            "Total after interest applied: (total)$\n"
          ]
        }
      ],
      "source": [
        "# step 1: Input deposit amount\n",
        "deposit = float(input('Enter the deposit amount ($):'))\n",
        "\n",
        "# step 2: Decide interest rate\n",
        "if deposit > 10000:\n",
        "  ir =3.5\n",
        "elif deposit > 1000:\n",
        "  ir = 3.25\n",
        "else:\n",
        "  ir = 3.0\n",
        "\n",
        "# step 3: Display total amount after interest rate is applied\n",
        "(total) = ((1 + ir/100) * deposit)\n",
        "print(f'Total after interest applied: (total)$')"
      ]
    }
  ]
}